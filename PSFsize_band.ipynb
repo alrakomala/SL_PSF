{
 "cells": [
  {
   "cell_type": "markdown",
   "id": "dc21629a-02f6-4025-b034-2474f993c140",
   "metadata": {},
   "source": [
    "# PSF size for the different LSST filters"
   ]
  },
  {
   "cell_type": "code",
   "execution_count": 1,
   "id": "558bcc7f-cb76-4755-8753-e5fb238e3dee",
   "metadata": {},
   "outputs": [],
   "source": [
    "# Import general python packages\n",
    "import time\n",
    "import numpy as np\n",
    "import matplotlib.pyplot as plt\n",
    "import pandas\n",
    "from pandas.testing import assert_frame_equal\n",
    "from astropy import units as u\n",
    "from astropy.coordinates import SkyCoord\n",
    "\n",
    "\n",
    "# Import the Rubin TAP service utilities\n",
    "from lsst.rsp import get_tap_service, retrieve_query\n",
    "\n",
    "# Bokeh and holoviews for interactive visualization\n",
    "import bokeh\n",
    "from bokeh.io import output_file, output_notebook, show\n",
    "from bokeh.layouts import gridplot\n",
    "from bokeh.models import ColumnDataSource, CDSView, GroupFilter, HoverTool\n",
    "from bokeh.plotting import figure\n",
    "from bokeh.transform import factor_cmap\n",
    "import holoviews as hv\n",
    "\n",
    "# To ignore some kinds of warnings\n",
    "import warnings\n",
    "from astropy.units import UnitsWarning"
   ]
  },
  {
   "cell_type": "code",
   "execution_count": 2,
   "id": "427c9b38-2e1b-4bcb-8b2d-b4fd2ba3301b",
   "metadata": {},
   "outputs": [],
   "source": [
    "service = get_tap_service()\n",
    "assert service is not None\n",
    "assert service.baseurl == \"https://data.lsst.cloud/api/tap\""
   ]
  },
  {
   "cell_type": "code",
   "execution_count": 3,
   "id": "4ec28235-c7dd-4e40-88eb-8a3e77057219",
   "metadata": {},
   "outputs": [
    {
     "name": "stderr",
     "output_type": "stream",
     "text": [
      "WARNING: UnitsWarning: Unit 'nmgy' not supported by the VOUnit standard.  [astropy.units.format.vounit]\n"
     ]
    },
    {
     "data": {
      "text/html": [
       "<pre style=\"margin: 0.1em;\n",
       "padding-left: 0.25em;\n",
       "border-left-style: solid;\n",
       "font-family: var(--jp-code-font-family);\n",
       "font-size: var(--jp-code-font-size);\n",
       "line-height: var(--jp-code-line-height);\n",
       "\"><span style=\"color: var(--jp-warn-color2)\">astropy</span> <span style=\"color: var(--jp-warn-color0)\">WARNING</span>: UnitsWarning: Unit &#x27;nmgy&#x27; not supported by the VOUnit standard. </pre>"
      ],
      "text/plain": [
       "<IPython.core.display.HTML object>"
      ]
     },
     "metadata": {},
     "output_type": "display_data"
    },
    {
     "name": "stderr",
     "output_type": "stream",
     "text": [
      "WARNING: UnitsWarning: Unit 'asec' not supported by the VOUnit standard. Did you mean arcsec? [astropy.units.format.vounit]\n"
     ]
    },
    {
     "data": {
      "text/html": [
       "<pre style=\"margin: 0.1em;\n",
       "padding-left: 0.25em;\n",
       "border-left-style: solid;\n",
       "font-family: var(--jp-code-font-family);\n",
       "font-size: var(--jp-code-font-size);\n",
       "line-height: var(--jp-code-line-height);\n",
       "\"><span style=\"color: var(--jp-warn-color2)\">astropy</span> <span style=\"color: var(--jp-warn-color0)\">WARNING</span>: UnitsWarning: Unit &#x27;asec&#x27; not supported by the VOUnit standard. Did you mean arcsec?</pre>"
      ],
      "text/plain": [
       "<IPython.core.display.HTML object>"
      ]
     },
     "metadata": {},
     "output_type": "display_data"
    }
   ],
   "source": [
    "coord = SkyCoord(ra=62.0*u.degree, dec=-37.0*u.degree, frame='icrs')\n",
    "radius = 1 * u.deg\n",
    "\n",
    "query = \"SELECT obj.objectId, obj.ra, obj.dec, obj.mag_g, obj.mag_i, obj.mag_r, obj.mag_u, obj.mag_y, obj.mag_z, \"\\\n",
    "        \"obj.Ixx_pixel, obj.Ixx_pixel_g, obj.Ixx_pixel_i, obj.Ixx_pixel_r, obj.Ixx_pixel_u, \"\\\n",
    "        \"obj.Ixx_pixel_y, obj.Ixx_pixel_z, obj.IxxPSF_pixel, obj.IxxPSF_pixel_g, obj.IxxPSF_pixel_i, \" \\\n",
    "        \"obj.IxxPSF_pixel_r, obj.IxxPSF_pixel_u, obj.IxxPSF_pixel_y, obj.IxxPSF_pixel_z, obj.Ixy_pixel, \"\\\n",
    "        \"obj.Ixy_pixel_g, obj.Ixy_pixel_i, obj.Ixy_pixel_r, obj.Ixy_pixel_u, obj.Ixy_pixel_y, \" \\\n",
    "        \"obj.Ixy_pixel_z, obj.IxyPSF_pixel, obj.IxyPSF_pixel_g, obj.IxyPSF_pixel_i, \" \\\n",
    "        \"obj.IxyPSF_pixel_r, obj.IxyPSF_pixel_u, obj.IxyPSF_pixel_y, obj.IxyPSF_pixel_z, \" \\\n",
    "        \"obj.Iyy_pixel, obj.Iyy_pixel_g, obj.Iyy_pixel_i, obj.Iyy_pixel_r, obj.Iyy_pixel_u, \" \\\n",
    "        \"obj.Iyy_pixel_y, obj.Iyy_pixel_z, obj.IyyPSF_pixel, obj.IyyPSF_pixel_g, obj.IyyPSF_pixel_i, \" \\\n",
    "        \"obj.IyyPSF_pixel_r, obj.IyyPSF_pixel_u, obj.IyyPSF_pixel_y, obj.IyyPSF_pixel_z,\" \\\n",
    "        \"obj.tract, obj.patch, \" \\\n",
    "        \"obj.extendedness, obj.good, obj.clean, \" \\\n",
    "        \"truth.mag_r as truth_mag_r, truth.match_objectId, \"\\\n",
    "        \"truth.flux_g, truth.flux_r, truth.flux_i, truth.truth_type, \" \\\n",
    "        \"truth.match_sep, truth.is_variable \" \\\n",
    "        \"FROM dp01_dc2_catalogs.object as obj \" \\\n",
    "        \"JOIN dp01_dc2_catalogs.truth_match as truth \" \\\n",
    "        \"ON truth.match_objectId = obj.objectId \" \\\n",
    "        \"WHERE CONTAINS(POINT('ICRS', obj.ra, obj.dec),CIRCLE('ICRS', \" \\\n",
    "        + str(coord.ra.value) + \", \" + str(coord.dec.value) + \", \" \\\n",
    "        + str(radius.value) + \" )) = 1 \" \\\n",
    "        \"AND truth.match_objectid >= 0 \"\\\n",
    "        \"AND obj.extendedness = 0 \"\\\n",
    "        \"AND truth.is_good_match = 1\"\n",
    "\n",
    "results = service.search(query).to_table().to_pandas()"
   ]
  },
  {
   "cell_type": "code",
   "execution_count": 4,
   "id": "07a922ba-12fd-4500-b743-8f434d8e17f9",
   "metadata": {},
   "outputs": [
    {
     "data": {
      "text/plain": [
       "Index(['objectId', 'ra', 'dec', 'mag_g', 'mag_i', 'mag_r', 'mag_u', 'mag_y',\n",
       "       'mag_z', 'Ixx_pixel', 'Ixx_pixel_g', 'Ixx_pixel_i', 'Ixx_pixel_r',\n",
       "       'Ixx_pixel_u', 'Ixx_pixel_y', 'Ixx_pixel_z', 'IxxPSF_pixel',\n",
       "       'IxxPSF_pixel_g', 'IxxPSF_pixel_i', 'IxxPSF_pixel_r', 'IxxPSF_pixel_u',\n",
       "       'IxxPSF_pixel_y', 'IxxPSF_pixel_z', 'Ixy_pixel', 'Ixy_pixel_g',\n",
       "       'Ixy_pixel_i', 'Ixy_pixel_r', 'Ixy_pixel_u', 'Ixy_pixel_y',\n",
       "       'Ixy_pixel_z', 'IxyPSF_pixel', 'IxyPSF_pixel_g', 'IxyPSF_pixel_i',\n",
       "       'IxyPSF_pixel_r', 'IxyPSF_pixel_u', 'IxyPSF_pixel_y', 'IxyPSF_pixel_z',\n",
       "       'Iyy_pixel', 'Iyy_pixel_g', 'Iyy_pixel_i', 'Iyy_pixel_r', 'Iyy_pixel_u',\n",
       "       'Iyy_pixel_y', 'Iyy_pixel_z', 'IyyPSF_pixel', 'IyyPSF_pixel_g',\n",
       "       'IyyPSF_pixel_i', 'IyyPSF_pixel_r', 'IyyPSF_pixel_u', 'IyyPSF_pixel_y',\n",
       "       'IyyPSF_pixel_z', 'tract', 'patch', 'extendedness', 'good', 'clean',\n",
       "       'truth_mag_r', 'match_objectId', 'flux_g', 'flux_r', 'flux_i',\n",
       "       'truth_type', 'match_sep', 'is_variable'],\n",
       "      dtype='object')"
      ]
     },
     "execution_count": 4,
     "metadata": {},
     "output_type": "execute_result"
    }
   ],
   "source": [
    "#print(results.columns.tolist())\n",
    "results.columns"
   ]
  },
  {
   "cell_type": "code",
   "execution_count": 5,
   "id": "db0170d9-cc2a-4e32-ad0e-f61cf3ba47c9",
   "metadata": {},
   "outputs": [
    {
     "data": {
      "text/plain": [
       "<matplotlib.legend.Legend at 0x7f4719afd960>"
      ]
     },
     "execution_count": 5,
     "metadata": {},
     "output_type": "execute_result"
    },
    {
     "data": {
      "image/png": "[encoded data removed]",
      "text/plain": [
       "<Figure size 640x480 with 1 Axes>"
      ]
     },
     "metadata": {},
     "output_type": "display_data"
    }
   ],
   "source": [
    "size_u = np.sqrt((results[\"IxxPSF_pixel_u\"] + results[\"IyyPSF_pixel_u\"]) / 2.)\n",
    "size_g = np.sqrt((results[\"IxxPSF_pixel_g\"] + results[\"IyyPSF_pixel_g\"]) / 2.)\n",
    "size_r = np.sqrt((results[\"IxxPSF_pixel_r\"] + results[\"IyyPSF_pixel_r\"]) / 2.)\n",
    "size_i = np.sqrt((results[\"IxxPSF_pixel_i\"] + results[\"IyyPSF_pixel_i\"]) / 2.)\n",
    "#size_z = np.sqrt((results[\"IxxPSF_pixel_z\"] + results[\"IyyPSF_pixel_z\"]) / 2.)\n",
    "#size_y = np.sqrt((results[\"IxxPSF_pixel_y\"] + results[\"IyyPSF_pixel_y\"]) / 2.)\n",
    "bins = np.arange(1.7, 2.15, 0.012)\n",
    "\n",
    "plt.hist(size_u, bins, alpha=0.5, color = 'b', label='u')\n",
    "plt.hist(size_g, bins, alpha=0.5, color = 'g', label='g')\n",
    "plt.hist(size_r, bins, alpha=0.5, color = 'y', label='r')\n",
    "plt.hist(size_i, bins, alpha=0.5, color = 'r', label='i')\n",
    "#plt.hist(size_z, bins, alpha=0.5, label='z')\n",
    "#plt.hist(size_y, bins, alpha=0.5, label='y')\n",
    "plt.xlabel('PSF size [pix]')\n",
    "plt.ylabel('N')\n",
    "\n",
    "plt.legend()"
   ]
  },
  {
   "cell_type": "code",
   "execution_count": null,
   "id": "38354730-50a6-4aad-b2a6-7f2d708a218d",
   "metadata": {},
   "outputs": [],
   "source": []
  }
 ],
 "metadata": {
  "kernelspec": {
   "display_name": "LSST",
   "language": "python",
   "name": "lsst"
  },
  "language_info": {
   "codemirror_mode": {
    "name": "ipython",
    "version": 3
   },
   "file_extension": ".py",
   "mimetype": "text/x-python",
   "name": "python",
   "nbconvert_exporter": "python",
   "pygments_lexer": "ipython3",
   "version": "3.10.5"
  }
 },
 "nbformat": 4,
 "nbformat_minor": 5
}
