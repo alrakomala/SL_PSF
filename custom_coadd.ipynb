{
 "cells": [
  {
   "cell_type": "markdown",
   "id": "58d8c9da-0db8-4c90-9eb0-fb84522c07b1",
   "metadata": {},
   "source": [
    "## Construction of custom coadd using the visits with mean PSF size <= given value"
   ]
  },
  {
   "cell_type": "code",
   "execution_count": 19,
   "id": "12770f08-dcca-4bb4-b7bc-6d435aeb5a5a",
   "metadata": {
    "execution": {
     "iopub.execute_input": "2023-06-28T18:39:55.781728Z",
     "iopub.status.busy": "2023-06-28T18:39:55.780635Z",
     "iopub.status.idle": "2023-06-28T18:39:55.954012Z",
     "shell.execute_reply": "2023-06-28T18:39:55.953247Z",
     "shell.execute_reply.started": "2023-06-28T18:39:55.781678Z"
    },
    "tags": []
   },
   "outputs": [],
   "source": [
    "import time\n",
    "import getpass\n",
    "import numpy as np\n",
    "import matplotlib.pyplot as plt\n",
    "import seaborn as sns\n",
    "import pandas as pd\n",
    "from scipy import stats\n",
    "\n",
    "from pandas.testing import assert_frame_equal\n",
    "from astropy import units as u\n",
    "from astropy.coordinates import SkyCoord\n",
    "from astropy.wcs import WCS\n",
    "from astropy.time import Time\n",
    "\n",
    "# Import the Rubin TAP service utilities\n",
    "from lsst.rsp import get_tap_service, retrieve_query\n",
    "\n",
    "# Rubin TAP service utilities\n",
    "import lsst.geom as geom\n",
    "import lsst.afw.display as afwDisplay  # for image visualization\n",
    "import lsst.afw.table as afwTable\n",
    "from lsst.daf.butler import Butler, DatasetType, CollectionType # access to LSST data products\n",
    "import lsst.daf.base as dafBase\n",
    "afwDisplay.setDefaultBackend('matplotlib')\n",
    "from lsst.afw.geom.ellipses import Quadrupole, SeparableDistortionTraceRadius\n",
    "from lsst.afw.cameraGeom import utils as cgUtils\n",
    "from lsst.obs.lsst.cameraTransforms import LsstCameraTransforms\n",
    "from lsst.obs.lsst.cameraTransforms import ampPixelToCcdPixel\n",
    "from lsst.afw.cameraGeom import FIELD_ANGLE, FOCAL_PLANE, PIXELS\n",
    "import lsst.afw.cameraGeom as cameraGeom\n",
    "import lsst.afw.geom as afwGeom\n",
    "# lsst packages for executing pipeline tasks\n",
    "from lsst.ctrl.mpexec import SimplePipelineExecutor\n",
    "from lsst.pipe.base import Pipeline, Instrument\n",
    "\n",
    "\n",
    "# To ignore some kinds of warnings\n",
    "import warnings\n",
    "warnings.filterwarnings('ignore')"
   ]
  },
  {
   "cell_type": "code",
   "execution_count": 2,
   "id": "7824522c-c7cb-4168-989f-42daf1b62e15",
   "metadata": {
    "execution": {
     "iopub.execute_input": "2023-06-28T18:04:45.962984Z",
     "iopub.status.busy": "2023-06-28T18:04:45.962603Z",
     "iopub.status.idle": "2023-06-28T18:04:48.936996Z",
     "shell.execute_reply": "2023-06-28T18:04:48.936086Z",
     "shell.execute_reply.started": "2023-06-28T18:04:45.962958Z"
    },
    "tags": []
   },
   "outputs": [],
   "source": [
    "repo = 'dp02'\n",
    "collection = '2.2i/runs/DP0.2'\n",
    "butler = Butler(repo, collections=collection)\n"
   ]
  },
  {
   "cell_type": "code",
   "execution_count": 8,
   "id": "9c449185-bff9-4c10-9fb1-7423d5bc71f7",
   "metadata": {
    "execution": {
     "iopub.execute_input": "2023-06-28T18:06:10.717925Z",
     "iopub.status.busy": "2023-06-28T18:06:10.717034Z",
     "iopub.status.idle": "2023-06-28T18:06:10.723976Z",
     "shell.execute_reply": "2023-06-28T18:06:10.723314Z",
     "shell.execute_reply.started": "2023-06-28T18:06:10.717891Z"
    },
    "tags": []
   },
   "outputs": [],
   "source": [
    "def fullVisit_RADEC_Only_catalog(visit,n_ccds):\n",
    "    ra, dec, psf_size, psf_ellipticity = [],[],[],[]\n",
    "    \n",
    "    for det in range(n_ccds):\n",
    "        dataId = {'visit':visit,'detector': det} \n",
    "        #ccd = butler.get('calexp', **dataId)\n",
    "        src = butler.get('src', **dataId)\n",
    "        #point_sources = src[src['calib_psf_used'] == True]\n",
    "        point_sources = src[src['base_ClassificationExtendedness_value'] == 0]\n",
    "    \n",
    "        for i in range(len(point_sources)):\n",
    "            ra.append(point_sources[i]['coord_ra'])\n",
    "            dec.append(point_sources[i]['coord_dec'])\n",
    "            psf_size.append(np.sqrt((point_sources[i]['base_SdssShape_psf_xx'] + point_sources[i]['base_SdssShape_psf_yy']) / 2.))\n",
    "            i_xx = point_sources[i]['base_SdssShape_psf_xx']\n",
    "            i_yy = point_sources[i]['base_SdssShape_psf_yy']\n",
    "            i_xy = point_sources[i]['base_SdssShape_psf_xy']\n",
    "            e1 = (i_xx - i_yy) / (i_xx + i_yy)\n",
    "            e2 = (2. * i_xy) / (i_xx + i_yy)\n",
    "            psf_ellipticity.append(np.sqrt(e1**2 + e2**2))\n",
    "         \n",
    "    return np.asarray(ra), np.asarray(dec), np.asarray(psf_size), np.asarray(psf_ellipticity) \n"
   ]
  },
  {
   "cell_type": "code",
   "execution_count": 9,
   "id": "0f91680f-6908-4b95-a799-e088bff3d921",
   "metadata": {
    "execution": {
     "iopub.execute_input": "2023-06-28T18:06:12.274193Z",
     "iopub.status.busy": "2023-06-28T18:06:12.273222Z",
     "iopub.status.idle": "2023-06-28T18:06:13.644540Z",
     "shell.execute_reply": "2023-06-28T18:06:13.643764Z",
     "shell.execute_reply.started": "2023-06-28T18:06:12.274153Z"
    },
    "tags": []
   },
   "outputs": [],
   "source": [
    "my_ra_deg = 55.745834\n",
    "my_dec_deg = -32.269167\n",
    "radius = 0.5\n",
    "\n",
    "ccdTableRef = list(butler.registry.queryDatasets('ccdVisitTable'))\n",
    "ccdTable = butler.get(ccdTableRef[0])\n",
    "posRA = (ccdTable['ra'] <= my_ra_deg + radius ) & (ccdTable['ra'] >= my_ra_deg - radius )\n",
    "posDEC = (ccdTable['decl'] <= my_dec_deg + radius ) & (ccdTable['decl'] >= my_dec_deg - radius )\n",
    "\n",
    "ccd_visit_list = ccdTable[posRA & posDEC][['visitId', 'detector', 'band']]"
   ]
  },
  {
   "cell_type": "code",
   "execution_count": 10,
   "id": "2cf4ac5c-cbad-4afe-87ff-3cb11e20737c",
   "metadata": {
    "execution": {
     "iopub.execute_input": "2023-06-28T18:06:14.975549Z",
     "iopub.status.busy": "2023-06-28T18:06:14.974644Z",
     "iopub.status.idle": "2023-06-28T18:06:15.054415Z",
     "shell.execute_reply": "2023-06-28T18:06:15.053658Z",
     "shell.execute_reply.started": "2023-06-28T18:06:14.975511Z"
    },
    "tags": []
   },
   "outputs": [
    {
     "data": {
      "text/plain": [
       "Index(['visit', 'physical_filter', 'band', 'ra', 'decl', 'skyRotation',\n",
       "       'azimuth', 'altitude', 'zenithDistance', 'airmass', 'expTime',\n",
       "       'expMidpt', 'expMidptMJD', 'obsStart', 'obsStartMJD'],\n",
       "      dtype='object')"
      ]
     },
     "execution_count": 10,
     "metadata": {},
     "output_type": "execute_result"
    }
   ],
   "source": [
    "visitTableRef = list(butler.registry.queryDatasets('visitTable'))\n",
    "visitTable = butler.get(visitTableRef[0])\n",
    "visitTable.columns"
   ]
  },
  {
   "cell_type": "code",
   "execution_count": 11,
   "id": "8c21a084-0a7d-4531-921f-b0860b1fe573",
   "metadata": {
    "execution": {
     "iopub.execute_input": "2023-06-28T18:06:16.080346Z",
     "iopub.status.busy": "2023-06-28T18:06:16.079338Z",
     "iopub.status.idle": "2023-06-28T18:06:16.091252Z",
     "shell.execute_reply": "2023-06-28T18:06:16.090391Z",
     "shell.execute_reply.started": "2023-06-28T18:06:16.080314Z"
    },
    "tags": []
   },
   "outputs": [
    {
     "name": "stdout",
     "output_type": "stream",
     "text": [
      "unique visits u 64\n",
      "unique visits g 81\n",
      "unique visits r 200\n",
      "unique visits i 197\n",
      "unique visits y 125\n",
      "unique visits z 107\n"
     ]
    }
   ],
   "source": [
    "for i in \"ugriyz\":\n",
    "    print(\"unique visits \" + i, len(ccd_visit_list[ccd_visit_list['band'] == i]['visitId'].unique()))"
   ]
  },
  {
   "cell_type": "code",
   "execution_count": 12,
   "id": "042d6cd5-b7c6-4606-800d-1adefef132bb",
   "metadata": {
    "execution": {
     "iopub.execute_input": "2023-06-28T18:06:17.070443Z",
     "iopub.status.busy": "2023-06-28T18:06:17.069506Z",
     "iopub.status.idle": "2023-06-28T18:06:17.075683Z",
     "shell.execute_reply": "2023-06-28T18:06:17.074942Z",
     "shell.execute_reply.started": "2023-06-28T18:06:17.070408Z"
    },
    "tags": []
   },
   "outputs": [],
   "source": [
    "visits_g = ccd_visit_list[ccd_visit_list['band'] == 'g']['visitId'].unique()"
   ]
  },
  {
   "cell_type": "code",
   "execution_count": 13,
   "id": "a3d44ab6-47ce-4eb4-a905-a1b39598c24f",
   "metadata": {
    "execution": {
     "iopub.execute_input": "2023-06-28T18:06:17.973894Z",
     "iopub.status.busy": "2023-06-28T18:06:17.972695Z",
     "iopub.status.idle": "2023-06-28T18:09:04.196266Z",
     "shell.execute_reply": "2023-06-28T18:09:04.195519Z",
     "shell.execute_reply.started": "2023-06-28T18:06:17.973858Z"
    },
    "tags": []
   },
   "outputs": [
    {
     "data": {
      "image/png": "[encoded data removed]",
      "text/plain": [
       "<Figure size 1200x500 with 1 Axes>"
      ]
     },
     "metadata": {},
     "output_type": "display_data"
    }
   ],
   "source": [
    "dataset = {}\n",
    "n_visits = len(visits_g)\n",
    "xticklabels =[]\n",
    "metrics = np.empty((0,7), float)\n",
    "\n",
    "for i,v in enumerate(visits_g[0:n_visits]):\n",
    "    try:\n",
    "        dataId = {'visit':v,'detector': 0} \n",
    "        ra, dec, psf_size, psf_e = fullVisit_RADEC_Only_catalog(v,4)\n",
    "        xticklabels.append(v)\n",
    "        mean_PSFs = np.mean(psf_size)\n",
    "        median_PSFs = np.median(psf_size)\n",
    "        std_PSFs = np.std(psf_size)\n",
    "        range_PSFs = np.max(psf_size) - np.min(psf_size)\n",
    "        IQR_PSFs = stats.iqr(psf_size)\n",
    "        #metrics: visit_id, mean_PSFs, median_PSFs, std_PSFs, range_PSFs, IQR_PSFs \n",
    "        airmass = visitTable['airmass'][visitTable['visit'] == v]\n",
    "        metrics = np.append(metrics, np.array([[v,mean_PSFs, median_PSFs, std_PSFs, range_PSFs, IQR_PSFs, airmass]]), axis=0)\n",
    "\n",
    "    except:\n",
    "        pass\n",
    "\n",
    "df_metrics = pd.DataFrame(data= metrics, columns = ['visit_id', 'mean_PSFs', 'median_PSFs', 'std_PSFs', 'range_PSFs', 'IQR_PSFs', 'airmass'])\n",
    "df_metrics['visit_id'] = df_metrics['visit_id'].astype('int')\n",
    "df_metrics['std_PSFs'] = df_metrics['std_PSFs'].astype('float')\n",
    "\n",
    "fig, ax = plt.subplots(figsize=(12, 5))\n",
    "ax.scatter(range(len(df_metrics)), df_metrics['mean_PSFs'], s = df_metrics['std_PSFs']*20000, c = df_metrics['airmass'], cmap = 'viridis', alpha=0.4)\n",
    "ax.set_xticks(range(len(df_metrics)))\n",
    "ax.tick_params(axis='both', which='major', labelsize=9)\n",
    "ax.set_xticklabels(xticklabels, rotation = 90)\n",
    "ax.set_xlabel('Visit ID', fontsize=14)\n",
    "ax.set_ylabel('PSF size', fontsize=14);\n",
    "fig.suptitle(\"g band\", fontsize=16);"
   ]
  },
  {
   "cell_type": "markdown",
   "id": "6128f7c3-e34c-4c91-a402-84d3a8d0cf67",
   "metadata": {},
   "source": [
    "### Select the visits to construct the coadd"
   ]
  },
  {
   "cell_type": "code",
   "execution_count": 14,
   "id": "42eb9a22-1bf1-45f8-97a2-c084015c46c3",
   "metadata": {
    "execution": {
     "iopub.execute_input": "2023-06-28T18:11:37.512347Z",
     "iopub.status.busy": "2023-06-28T18:11:37.511317Z",
     "iopub.status.idle": "2023-06-28T18:11:37.517318Z",
     "shell.execute_reply": "2023-06-28T18:11:37.516669Z",
     "shell.execute_reply.started": "2023-06-28T18:11:37.512312Z"
    },
    "tags": []
   },
   "outputs": [],
   "source": [
    "## TO DO: select the visits used for a single patch\n",
    "visits_selected = df_metrics['visit_id'][df_metrics['mean_PSFs'] <= 2.0]"
   ]
  },
  {
   "cell_type": "code",
   "execution_count": 16,
   "id": "bd539b0e-52f3-409f-9f61-b24553a3841b",
   "metadata": {
    "execution": {
     "iopub.execute_input": "2023-06-28T18:15:37.822176Z",
     "iopub.status.busy": "2023-06-28T18:15:37.821208Z",
     "iopub.status.idle": "2023-06-28T18:15:37.826789Z",
     "shell.execute_reply": "2023-06-28T18:15:37.826066Z",
     "shell.execute_reply.started": "2023-06-28T18:15:37.822143Z"
    },
    "tags": []
   },
   "outputs": [
    {
     "name": "stdout",
     "output_type": "stream",
     "text": [
      "(697846,1154193,1154225,221614,637912,400391,419773,921227,1202926,1205422,193822,254357,637877,1205374,1206472,193826,254378,921226,921274,697958,1206434,1206435,661652,1170050,1154224,254317,254360,697808,697810,1154192,1170095,1206079,637878,1169217,1202927,1225465,193823,254373,1206128,680296,1206080,1225496,193783)\n"
     ]
    }
   ],
   "source": [
    "my_visits_tupleString = \"(\"+\",\".join(visits_selected.astype(str))+\")\"\n",
    "print(my_visits_tupleString)"
   ]
  },
  {
   "cell_type": "code",
   "execution_count": 17,
   "id": "836028d0-1d27-41ae-968a-cfe166712c72",
   "metadata": {
    "execution": {
     "iopub.execute_input": "2023-06-28T18:22:26.103145Z",
     "iopub.status.busy": "2023-06-28T18:22:26.102408Z",
     "iopub.status.idle": "2023-06-28T18:22:31.973030Z",
     "shell.execute_reply": "2023-06-28T18:22:31.971814Z",
     "shell.execute_reply.started": "2023-06-28T18:22:26.103114Z"
    },
    "tags": []
   },
   "outputs": [],
   "source": [
    "## list all the collections under 'kalamo'\n",
    "#!butler query-collections dp02 --chains=tree u/kalamo/*"
   ]
  },
  {
   "cell_type": "code",
   "execution_count": 20,
   "id": "eef785d8-e8a1-48f8-8c00-5ba17833daeb",
   "metadata": {
    "execution": {
     "iopub.execute_input": "2023-06-28T18:40:01.001881Z",
     "iopub.status.busy": "2023-06-28T18:40:01.000756Z",
     "iopub.status.idle": "2023-06-28T18:40:01.005835Z",
     "shell.execute_reply": "2023-06-28T18:40:01.004952Z",
     "shell.execute_reply.started": "2023-06-28T18:40:01.001847Z"
    },
    "tags": []
   },
   "outputs": [],
   "source": [
    "my_username = getpass.getuser()\n",
    "my_outputCollection = 'u/'+my_username+'/custom_coadd_test1'\n",
    "#print('Name of new butler collection for my output: ', my_outputCollection)"
   ]
  },
  {
   "cell_type": "code",
   "execution_count": 21,
   "id": "b91922d9-8910-4c38-b5cb-0cc1e11c1837",
   "metadata": {
    "execution": {
     "iopub.execute_input": "2023-06-28T18:40:05.491595Z",
     "iopub.status.busy": "2023-06-28T18:40:05.490727Z",
     "iopub.status.idle": "2023-06-28T18:40:05.495797Z",
     "shell.execute_reply": "2023-06-28T18:40:05.495138Z",
     "shell.execute_reply.started": "2023-06-28T18:40:05.491566Z"
    },
    "tags": []
   },
   "outputs": [
    {
     "data": {
      "text/plain": [
       "'kalamo'"
      ]
     },
     "execution_count": 21,
     "metadata": {},
     "output_type": "execute_result"
    }
   ],
   "source": [
    "del butler"
   ]
  },
  {
   "cell_type": "code",
   "execution_count": 23,
   "id": "0e028ece-5168-4677-b367-ed805231ec72",
   "metadata": {
    "execution": {
     "iopub.execute_input": "2023-06-29T18:07:25.766154Z",
     "iopub.status.busy": "2023-06-29T18:07:25.765219Z",
     "iopub.status.idle": "2023-06-29T18:07:26.247526Z",
     "shell.execute_reply": "2023-06-29T18:07:26.246455Z",
     "shell.execute_reply.started": "2023-06-29T18:07:25.766123Z"
    },
    "tags": []
   },
   "outputs": [
    {
     "name": "stdout",
     "output_type": "stream",
     "text": [
      "Recommended (Weekly 2023_21)\n"
     ]
    }
   ],
   "source": [
    "# current version of lsst pipelines\n",
    "# the following procedure only works with w_2022_40\n",
    "! echo $IMAGE_DESCRIPTION"
   ]
  },
  {
   "cell_type": "markdown",
   "id": "5fb6b084-3ca5-41b8-9c8b-cd43989269d5",
   "metadata": {},
   "source": [
    "> **from MELISSA GRAHAM notebook :** In future updates to the LSST Science Pipelines, it will be possible to use: <br>\n",
    ">`simpleButler = SimplePipelineExecutor.prep_butler(config, inputs=[collection], output=my_outputCollection)`\n",
    "\n",
    ">For the LSST Science Pipelines version Weekly_2022_22, the following workaround is needed to set up a simple butler and create a new output collection with the name selected above."
   ]
  },
  {
   "cell_type": "code",
   "execution_count": null,
   "id": "f25b4f65-605b-430d-a130-80d473f9e0a3",
   "metadata": {},
   "outputs": [],
   "source": [
    "# set up the butler for the new collection\n",
    "\n",
    "simpleButler = SimplePipelineExecutor.prep_butler('dp02', \n",
    "                                                  inputs=['2.2i/runs/DP0.2'], \n",
    "                                                  output=my_outputCollection)\n",
    "\n",
    "'''\n",
    "outputRun = f\"{my_outputCollection}/visits_PSFsize_lt2\"\n",
    "\n",
    "tmpButler = Butler(config, writeable=True)\n",
    "\n",
    "tmpButler.registry.registerCollection(outputRun, CollectionType.RUN)\n",
    "print('Made CollectionType.RUN: ', outputRun)\n",
    "\n",
    "tmpButler.registry.registerCollection(my_outputCollection, CollectionType.CHAINED)\n",
    "print('Made CollectionType.CHAINED: ', my_outputCollection)\n",
    "\n",
    "collections = [collection]\n",
    "collections.insert(0, outputRun)\n",
    "\n",
    "tmpButler.registry.setCollectionChain(my_outputCollection, collections)\n",
    "\n",
    "simpleButler = Butler(butler=tmpButler, collections=[my_outputCollection], run=outputRun)\n",
    "\n",
    "del tmpButler\n",
    "'''"
   ]
  },
  {
   "cell_type": "code",
   "execution_count": null,
   "id": "e6221c28-bd6e-4153-9474-c9746bbc4604",
   "metadata": {},
   "outputs": [],
   "source": [
    "## selection of makeWarp and assembleCoadd tasks\n",
    "assembleCoaddPipeline = Pipeline.from_uri('${PIPE_TASKS_DIR}/pipelines/DRP.yaml#makeWarp,assembleCoadd')"
   ]
  },
  {
   "cell_type": "markdown",
   "id": "81df9128-1850-44cd-ac80-89256918e4f4",
   "metadata": {},
   "source": [
    "> **from MELISSA GRAHAM notebook :** There is only one configuration that must be set, and it is to clarify to the pipeline that it _does not_ need to redo a final image characterization step.\n",
    "Currently, this configuration is needed due to a version mismatch: the DP0.2 data sets were processed with Version 23 of the LSST Science Pipelines, whereas this notebook uses the version \"Weekly 2022_22\".\n",
    "This configuration might not be needed in the future."
   ]
  },
  {
   "cell_type": "code",
   "execution_count": null,
   "id": "b646011c-4ade-46c4-9a32-f55378655b1f",
   "metadata": {},
   "outputs": [],
   "source": [
    "assembleCoaddPipeline.addConfigOverride('makeWarp', 'doApplyFinalizedPsf', False)"
   ]
  },
  {
   "cell_type": "code",
   "execution_count": null,
   "id": "7172358e-840c-481f-bf78-2652d7af162a",
   "metadata": {},
   "outputs": [],
   "source": [
    "queryString = f\"tract = {my_tract} AND patch = {my_patch} AND \" + \\\n",
    "              f\"visit in {my_visits_tupleString} AND skymap = 'DC2'\"\n",
    "\n",
    "print(queryString)"
   ]
  },
  {
   "cell_type": "code",
   "execution_count": null,
   "id": "b15a8d32-728d-4155-88d0-dad0a53fd774",
   "metadata": {},
   "outputs": [],
   "source": []
  },
  {
   "cell_type": "code",
   "execution_count": null,
   "id": "ee2967df-7e06-4736-b073-e88bfd3d2fbd",
   "metadata": {},
   "outputs": [],
   "source": [
    "## RUN the pipeline\n",
    "\n",
    "%%time\n",
    "spe = SimplePipelineExecutor.from_pipeline(assembleCoaddPipeline, where=queryString, butler=simpleButler)"
   ]
  },
  {
   "cell_type": "code",
   "execution_count": null,
   "id": "20fb8fd3-a9bd-4490-9097-86c08c2fb568",
   "metadata": {},
   "outputs": [],
   "source": [
    "%%time\n",
    "quanta = spe.run()"
   ]
  },
  {
   "cell_type": "code",
   "execution_count": null,
   "id": "232a99e1-6e6a-4834-91af-e87e82368a91",
   "metadata": {},
   "outputs": [],
   "source": []
  },
  {
   "cell_type": "code",
   "execution_count": null,
   "id": "4cf01c80-ee04-4f61-bd19-095156d39de7",
   "metadata": {},
   "outputs": [],
   "source": [
    "config1 = 'dp02'\n",
    "collection1 = '2.2i/runs/DP0.2'\n",
    "butler1 = Butler(config1, collections=collection1)\n",
    "my_dataId1 = {'band': 'i', 'tract': 4431, 'patch': 17}\n",
    "\n",
    "config2 = \"dp02\"\n",
    "collection2 = \"u/kalamo/custom_coadd_test1/visits_PSFsize_lt2\"\n",
    "butler2 = Butler(config2, collections=collection2)\n",
    "my_dataId2 = {'band': 'i', 'tract': 4431, 'patch': 17}\n",
    "\n",
    "allVisits_deepCoadd = butler1.get('deepCoadd', dataId=my_dataId1)\n",
    "bestAirmass_deepCoadd = butler2.get('deepCoadd', dataId=my_dataId2)\n",
    "\n",
    "\n",
    "fig, ax = plt.subplots(1, 2, figsize=(12, 5))\n",
    "plt.sca(ax[0])  \n",
    "display1 = afwDisplay.Display(frame=fig) \n",
    "display1.scale('asinh', min=-0.3, max=0.5)\n",
    "#display1.scale('asinh', 'zscale')\n",
    "display1.mtv(allVisits_deepCoadd.image)\n",
    "display1.show_colorbar(False)\n",
    "ax[0].axis('off')\n",
    "\n",
    "plt.sca(ax[1])\n",
    "display2 = afwDisplay.Display(frame=fig)\n",
    "display2.scale('asinh', min=-0.3, max=0.5)\n",
    "display2.mtv(bestAirmass_deepCoadd.image)\n",
    "display2.show_colorbar(False)\n",
    "ax[1].axis('off')\n",
    "plt.tight_layout()\n",
    "plt.show()\n"
   ]
  }
 ],
 "metadata": {
  "kernelspec": {
   "display_name": "LSST",
   "language": "python",
   "name": "lsst"
  },
  "language_info": {
   "codemirror_mode": {
    "name": "ipython",
    "version": 3
   },
   "file_extension": ".py",
   "mimetype": "text/x-python",
   "name": "python",
   "nbconvert_exporter": "python",
   "pygments_lexer": "ipython3",
   "version": "3.10.10"
  }
 },
 "nbformat": 4,
 "nbformat_minor": 5
}
